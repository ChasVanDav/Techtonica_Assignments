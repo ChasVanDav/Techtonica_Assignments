{
 "cells": [
  {
   "cell_type": "markdown",
   "id": "d8bba671-deac-486c-9912-be615cd6ac32",
   "metadata": {
    "editable": true,
    "slideshow": {
     "slide_type": ""
    },
    "tags": []
   },
   "source": [
    "# Week 3 Python Presentation on Data Manipulation"
   ]
  },
  {
   "cell_type": "markdown",
   "id": "18f48c65-da82-43b6-aacc-6034cdf9a2c0",
   "metadata": {},
   "source": [
    "### Step 1: Install pandas library to create, read, and manipulate data files."
   ]
  },
  {
   "cell_type": "code",
   "execution_count": 1,
   "id": "34f1a015-30ca-42ef-b2fa-c560205b4a4d",
   "metadata": {},
   "outputs": [
    {
     "name": "stdout",
     "output_type": "stream",
     "text": [
      "Defaulting to user installation because normal site-packages is not writeable\n",
      "Collecting pandas\n",
      "  Downloading pandas-2.2.3-cp39-cp39-macosx_10_9_x86_64.whl.metadata (89 kB)\n",
      "Collecting numpy>=1.22.4 (from pandas)\n",
      "  Downloading numpy-2.0.2-cp39-cp39-macosx_14_0_x86_64.whl.metadata (60 kB)\n",
      "Requirement already satisfied: python-dateutil>=2.8.2 in /Users/tpl522_6/Library/Python/3.9/lib/python/site-packages (from pandas) (2.9.0.post0)\n",
      "Collecting pytz>=2020.1 (from pandas)\n",
      "  Using cached pytz-2024.2-py2.py3-none-any.whl.metadata (22 kB)\n",
      "Collecting tzdata>=2022.7 (from pandas)\n",
      "  Using cached tzdata-2024.2-py2.py3-none-any.whl.metadata (1.4 kB)\n",
      "Requirement already satisfied: six>=1.5 in /Library/Developer/CommandLineTools/Library/Frameworks/Python3.framework/Versions/3.9/lib/python3.9/site-packages (from python-dateutil>=2.8.2->pandas) (1.15.0)\n",
      "Downloading pandas-2.2.3-cp39-cp39-macosx_10_9_x86_64.whl (12.6 MB)\n",
      "\u001b[2K   \u001b[90m━━━━━━━━━━━━━━━━━━━━━━━━━━━━━━━━━━━━━━━━\u001b[0m \u001b[32m12.6/12.6 MB\u001b[0m \u001b[31m5.1 MB/s\u001b[0m eta \u001b[36m0:00:00\u001b[0ma \u001b[36m0:00:01\u001b[0mm\n",
      "\u001b[?25hDownloading numpy-2.0.2-cp39-cp39-macosx_14_0_x86_64.whl (6.9 MB)\n",
      "\u001b[2K   \u001b[90m━━━━━━━━━━━━━━━━━━━━━━━━━━━━━━━━━━━━━━━━\u001b[0m \u001b[32m6.9/6.9 MB\u001b[0m \u001b[31m17.0 MB/s\u001b[0m eta \u001b[36m0:00:00\u001b[0ma \u001b[36m0:00:01\u001b[0m\n",
      "\u001b[?25hUsing cached pytz-2024.2-py2.py3-none-any.whl (508 kB)\n",
      "Using cached tzdata-2024.2-py2.py3-none-any.whl (346 kB)\n",
      "Installing collected packages: pytz, tzdata, numpy, pandas\n",
      "Successfully installed numpy-2.0.2 pandas-2.2.3 pytz-2024.2 tzdata-2024.2\n",
      "Note: you may need to restart the kernel to use updated packages.\n"
     ]
    }
   ],
   "source": [
    "pip install pandas"
   ]
  },
  {
   "cell_type": "code",
   "execution_count": 2,
   "id": "e5f4a25a-a84a-4c87-b7ab-f0d5e5093588",
   "metadata": {},
   "outputs": [],
   "source": [
    "import pandas as pd"
   ]
  },
  {
   "cell_type": "markdown",
   "id": "37e684ac-bb76-404d-80e4-3cca03e572a7",
   "metadata": {},
   "source": [
    "### Step 2: Create csv file"
   ]
  },
  {
   "cell_type": "code",
   "execution_count": 3,
   "id": "f120cdf1-bf83-413b-80fe-9630dab087e8",
   "metadata": {},
   "outputs": [
    {
     "name": "stdout",
     "output_type": "stream",
     "text": [
      "CSV file 'student_grades.csv' has been created.\n"
     ]
    }
   ],
   "source": [
    "import csv\n",
    "data = [\n",
    "    [\"Name\", \"Math Grade\", \"Science Grade\", \"English Grade\"],\n",
    "    [\"Alice\", 85, \"Y4:0\", 90],\n",
    "    [\"Bob\", 78, \"X2:0\", 95],\n",
    "    [\"Charlie\", 92, \"O3:0\", 88],\n",
    "    [\"David\", 76, \"N1:0\", 92],\n",
    "    [\"Eve\", 89, \"P2:0\", 91]\n",
    "]\n",
    "\n",
    "# Create the CSV file\n",
    "with open('student_grades.csv', 'w', newline='') as file:\n",
    "    writer = csv.writer(file)\n",
    "    writer.writerows(data)\n",
    "\n",
    "print(\"CSV file 'student_grades.csv' has been created.\")"
   ]
  },
  {
   "cell_type": "markdown",
   "id": "948dafe5-983c-4c98-8439-738bef499010",
   "metadata": {},
   "source": [
    "### Step 3: Read the csv file"
   ]
  },
  {
   "cell_type": "code",
   "execution_count": 4,
   "id": "db00babb-a769-4bc1-aa6c-baa4e70428c2",
   "metadata": {},
   "outputs": [
    {
     "name": "stdout",
     "output_type": "stream",
     "text": [
      "File read successfully!\n"
     ]
    }
   ],
   "source": [
    "try:\n",
    "    df = pd.read_csv('student_grades.csv')\n",
    "    print(\"File read successfully!\")\n",
    "except FileNotFoundError:\n",
    "    print(\"Error: The file was not found.\")\n",
    "except Exception as e:\n",
    "    print(f\"An unexpected error occurred: {e}\")"
   ]
  },
  {
   "cell_type": "markdown",
   "id": "abfb4898-b088-49e4-92d9-b1a165c34ba8",
   "metadata": {},
   "source": [
    "### Step 4: View data"
   ]
  },
  {
   "cell_type": "code",
   "execution_count": 5,
   "id": "74da54cb-372d-4e9e-9f70-299b8d8c0031",
   "metadata": {
    "scrolled": true
   },
   "outputs": [
    {
     "name": "stdout",
     "output_type": "stream",
     "text": [
      "      Name  Math Grade Science Grade  English Grade\n",
      "0    Alice          85          Y4:0             90\n",
      "1      Bob          78          X2:0             95\n",
      "2  Charlie          92          O3:0             88\n",
      "3    David          76          N1:0             92\n",
      "4      Eve          89          P2:0             91\n"
     ]
    }
   ],
   "source": [
    "print(df.head())\n",
    "                 "
   ]
  },
  {
   "cell_type": "code",
   "execution_count": 6,
   "id": "dfd946c3-ffb4-469a-9c2c-bb108e4d0e7f",
   "metadata": {},
   "outputs": [
    {
     "name": "stdout",
     "output_type": "stream",
     "text": [
      "<class 'pandas.core.frame.DataFrame'>\n",
      "RangeIndex: 5 entries, 0 to 4\n",
      "Data columns (total 4 columns):\n",
      " #   Column         Non-Null Count  Dtype \n",
      "---  ------         --------------  ----- \n",
      " 0   Name           5 non-null      object\n",
      " 1   Math Grade     5 non-null      int64 \n",
      " 2   Science Grade  5 non-null      object\n",
      " 3   English Grade  5 non-null      int64 \n",
      "dtypes: int64(2), object(2)\n",
      "memory usage: 288.0+ bytes\n",
      "None\n"
     ]
    }
   ],
   "source": [
    "print(df.info())"
   ]
  },
  {
   "cell_type": "markdown",
   "id": "4c0bd454-aa1a-4f19-b20d-799929eddca5",
   "metadata": {},
   "source": [
    "### Step 5: Initially Analyze Data/Identify Issues"
   ]
  },
  {
   "cell_type": "code",
   "execution_count": 7,
   "id": "9c1c911b-4652-4e40-9826-bdb6b558e22b",
   "metadata": {},
   "outputs": [
    {
     "name": "stdout",
     "output_type": "stream",
     "text": [
      "Average Math Grade: 84.0\n"
     ]
    }
   ],
   "source": [
    "math_avg = df[\"Math Grade\"].mean()\n",
    "print(f\"Average Math Grade: {math_avg}\")"
   ]
  },
  {
   "cell_type": "code",
   "execution_count": 8,
   "id": "e63a09b3-a7ec-4cbd-a7f5-79998d57ad6b",
   "metadata": {},
   "outputs": [
    {
     "name": "stdout",
     "output_type": "stream",
     "text": [
      "Average English Grade: 91.2\n"
     ]
    }
   ],
   "source": [
    "eng_avg = df[\"English Grade\"].mean()\n",
    "print(f\"Average English Grade: {eng_avg}\")"
   ]
  },
  {
   "cell_type": "code",
   "execution_count": 9,
   "id": "d6b9746c-2ec2-4074-a143-a61adf41b183",
   "metadata": {
    "scrolled": true
   },
   "outputs": [
    {
     "ename": "TypeError",
     "evalue": "Could not convert string 'Y4:0X2:0O3:0N1:0P2:0' to numeric",
     "output_type": "error",
     "traceback": [
      "\u001b[0;31m---------------------------------------------------------------------------\u001b[0m",
      "\u001b[0;31mTypeError\u001b[0m                                 Traceback (most recent call last)",
      "Cell \u001b[0;32mIn[9], line 1\u001b[0m\n\u001b[0;32m----> 1\u001b[0m sci_avg \u001b[38;5;241m=\u001b[39m \u001b[43mdf\u001b[49m\u001b[43m[\u001b[49m\u001b[38;5;124;43m\"\u001b[39;49m\u001b[38;5;124;43mScience Grade\u001b[39;49m\u001b[38;5;124;43m\"\u001b[39;49m\u001b[43m]\u001b[49m\u001b[38;5;241;43m.\u001b[39;49m\u001b[43mmean\u001b[49m\u001b[43m(\u001b[49m\u001b[43m)\u001b[49m\n\u001b[1;32m      2\u001b[0m \u001b[38;5;28mprint\u001b[39m(\u001b[38;5;124mf\u001b[39m\u001b[38;5;124m\"\u001b[39m\u001b[38;5;124mAverage Science Grade: \u001b[39m\u001b[38;5;132;01m{\u001b[39;00msci_avg\u001b[38;5;132;01m}\u001b[39;00m\u001b[38;5;124m\"\u001b[39m)\n\u001b[1;32m      4\u001b[0m \u001b[38;5;66;03m# error due to non-integer data type\u001b[39;00m\n\u001b[1;32m      5\u001b[0m \u001b[38;5;66;03m# proceed to clean data\u001b[39;00m\n",
      "File \u001b[0;32m~/Library/Python/3.9/lib/python/site-packages/pandas/core/series.py:6549\u001b[0m, in \u001b[0;36mSeries.mean\u001b[0;34m(self, axis, skipna, numeric_only, **kwargs)\u001b[0m\n\u001b[1;32m   6541\u001b[0m \u001b[38;5;129m@doc\u001b[39m(make_doc(\u001b[38;5;124m\"\u001b[39m\u001b[38;5;124mmean\u001b[39m\u001b[38;5;124m\"\u001b[39m, ndim\u001b[38;5;241m=\u001b[39m\u001b[38;5;241m1\u001b[39m))\n\u001b[1;32m   6542\u001b[0m \u001b[38;5;28;01mdef\u001b[39;00m \u001b[38;5;21mmean\u001b[39m(\n\u001b[1;32m   6543\u001b[0m     \u001b[38;5;28mself\u001b[39m,\n\u001b[0;32m   (...)\u001b[0m\n\u001b[1;32m   6547\u001b[0m     \u001b[38;5;241m*\u001b[39m\u001b[38;5;241m*\u001b[39mkwargs,\n\u001b[1;32m   6548\u001b[0m ):\n\u001b[0;32m-> 6549\u001b[0m     \u001b[38;5;28;01mreturn\u001b[39;00m \u001b[43mNDFrame\u001b[49m\u001b[38;5;241;43m.\u001b[39;49m\u001b[43mmean\u001b[49m\u001b[43m(\u001b[49m\u001b[38;5;28;43mself\u001b[39;49m\u001b[43m,\u001b[49m\u001b[43m \u001b[49m\u001b[43maxis\u001b[49m\u001b[43m,\u001b[49m\u001b[43m \u001b[49m\u001b[43mskipna\u001b[49m\u001b[43m,\u001b[49m\u001b[43m \u001b[49m\u001b[43mnumeric_only\u001b[49m\u001b[43m,\u001b[49m\u001b[43m \u001b[49m\u001b[38;5;241;43m*\u001b[39;49m\u001b[38;5;241;43m*\u001b[39;49m\u001b[43mkwargs\u001b[49m\u001b[43m)\u001b[49m\n",
      "File \u001b[0;32m~/Library/Python/3.9/lib/python/site-packages/pandas/core/generic.py:12420\u001b[0m, in \u001b[0;36mNDFrame.mean\u001b[0;34m(self, axis, skipna, numeric_only, **kwargs)\u001b[0m\n\u001b[1;32m  12413\u001b[0m \u001b[38;5;28;01mdef\u001b[39;00m \u001b[38;5;21mmean\u001b[39m(\n\u001b[1;32m  12414\u001b[0m     \u001b[38;5;28mself\u001b[39m,\n\u001b[1;32m  12415\u001b[0m     axis: Axis \u001b[38;5;241m|\u001b[39m \u001b[38;5;28;01mNone\u001b[39;00m \u001b[38;5;241m=\u001b[39m \u001b[38;5;241m0\u001b[39m,\n\u001b[0;32m   (...)\u001b[0m\n\u001b[1;32m  12418\u001b[0m     \u001b[38;5;241m*\u001b[39m\u001b[38;5;241m*\u001b[39mkwargs,\n\u001b[1;32m  12419\u001b[0m ) \u001b[38;5;241m-\u001b[39m\u001b[38;5;241m>\u001b[39m Series \u001b[38;5;241m|\u001b[39m \u001b[38;5;28mfloat\u001b[39m:\n\u001b[0;32m> 12420\u001b[0m     \u001b[38;5;28;01mreturn\u001b[39;00m \u001b[38;5;28;43mself\u001b[39;49m\u001b[38;5;241;43m.\u001b[39;49m\u001b[43m_stat_function\u001b[49m\u001b[43m(\u001b[49m\n\u001b[1;32m  12421\u001b[0m \u001b[43m        \u001b[49m\u001b[38;5;124;43m\"\u001b[39;49m\u001b[38;5;124;43mmean\u001b[39;49m\u001b[38;5;124;43m\"\u001b[39;49m\u001b[43m,\u001b[49m\u001b[43m \u001b[49m\u001b[43mnanops\u001b[49m\u001b[38;5;241;43m.\u001b[39;49m\u001b[43mnanmean\u001b[49m\u001b[43m,\u001b[49m\u001b[43m \u001b[49m\u001b[43maxis\u001b[49m\u001b[43m,\u001b[49m\u001b[43m \u001b[49m\u001b[43mskipna\u001b[49m\u001b[43m,\u001b[49m\u001b[43m \u001b[49m\u001b[43mnumeric_only\u001b[49m\u001b[43m,\u001b[49m\u001b[43m \u001b[49m\u001b[38;5;241;43m*\u001b[39;49m\u001b[38;5;241;43m*\u001b[39;49m\u001b[43mkwargs\u001b[49m\n\u001b[1;32m  12422\u001b[0m \u001b[43m    \u001b[49m\u001b[43m)\u001b[49m\n",
      "File \u001b[0;32m~/Library/Python/3.9/lib/python/site-packages/pandas/core/generic.py:12377\u001b[0m, in \u001b[0;36mNDFrame._stat_function\u001b[0;34m(self, name, func, axis, skipna, numeric_only, **kwargs)\u001b[0m\n\u001b[1;32m  12373\u001b[0m nv\u001b[38;5;241m.\u001b[39mvalidate_func(name, (), kwargs)\n\u001b[1;32m  12375\u001b[0m validate_bool_kwarg(skipna, \u001b[38;5;124m\"\u001b[39m\u001b[38;5;124mskipna\u001b[39m\u001b[38;5;124m\"\u001b[39m, none_allowed\u001b[38;5;241m=\u001b[39m\u001b[38;5;28;01mFalse\u001b[39;00m)\n\u001b[0;32m> 12377\u001b[0m \u001b[38;5;28;01mreturn\u001b[39;00m \u001b[38;5;28;43mself\u001b[39;49m\u001b[38;5;241;43m.\u001b[39;49m\u001b[43m_reduce\u001b[49m\u001b[43m(\u001b[49m\n\u001b[1;32m  12378\u001b[0m \u001b[43m    \u001b[49m\u001b[43mfunc\u001b[49m\u001b[43m,\u001b[49m\u001b[43m \u001b[49m\u001b[43mname\u001b[49m\u001b[38;5;241;43m=\u001b[39;49m\u001b[43mname\u001b[49m\u001b[43m,\u001b[49m\u001b[43m \u001b[49m\u001b[43maxis\u001b[49m\u001b[38;5;241;43m=\u001b[39;49m\u001b[43maxis\u001b[49m\u001b[43m,\u001b[49m\u001b[43m \u001b[49m\u001b[43mskipna\u001b[49m\u001b[38;5;241;43m=\u001b[39;49m\u001b[43mskipna\u001b[49m\u001b[43m,\u001b[49m\u001b[43m \u001b[49m\u001b[43mnumeric_only\u001b[49m\u001b[38;5;241;43m=\u001b[39;49m\u001b[43mnumeric_only\u001b[49m\n\u001b[1;32m  12379\u001b[0m \u001b[43m\u001b[49m\u001b[43m)\u001b[49m\n",
      "File \u001b[0;32m~/Library/Python/3.9/lib/python/site-packages/pandas/core/series.py:6457\u001b[0m, in \u001b[0;36mSeries._reduce\u001b[0;34m(self, op, name, axis, skipna, numeric_only, filter_type, **kwds)\u001b[0m\n\u001b[1;32m   6452\u001b[0m     \u001b[38;5;66;03m# GH#47500 - change to TypeError to match other methods\u001b[39;00m\n\u001b[1;32m   6453\u001b[0m     \u001b[38;5;28;01mraise\u001b[39;00m \u001b[38;5;167;01mTypeError\u001b[39;00m(\n\u001b[1;32m   6454\u001b[0m         \u001b[38;5;124mf\u001b[39m\u001b[38;5;124m\"\u001b[39m\u001b[38;5;124mSeries.\u001b[39m\u001b[38;5;132;01m{\u001b[39;00mname\u001b[38;5;132;01m}\u001b[39;00m\u001b[38;5;124m does not allow \u001b[39m\u001b[38;5;132;01m{\u001b[39;00mkwd_name\u001b[38;5;132;01m}\u001b[39;00m\u001b[38;5;124m=\u001b[39m\u001b[38;5;132;01m{\u001b[39;00mnumeric_only\u001b[38;5;132;01m}\u001b[39;00m\u001b[38;5;124m \u001b[39m\u001b[38;5;124m\"\u001b[39m\n\u001b[1;32m   6455\u001b[0m         \u001b[38;5;124m\"\u001b[39m\u001b[38;5;124mwith non-numeric dtypes.\u001b[39m\u001b[38;5;124m\"\u001b[39m\n\u001b[1;32m   6456\u001b[0m     )\n\u001b[0;32m-> 6457\u001b[0m \u001b[38;5;28;01mreturn\u001b[39;00m \u001b[43mop\u001b[49m\u001b[43m(\u001b[49m\u001b[43mdelegate\u001b[49m\u001b[43m,\u001b[49m\u001b[43m \u001b[49m\u001b[43mskipna\u001b[49m\u001b[38;5;241;43m=\u001b[39;49m\u001b[43mskipna\u001b[49m\u001b[43m,\u001b[49m\u001b[43m \u001b[49m\u001b[38;5;241;43m*\u001b[39;49m\u001b[38;5;241;43m*\u001b[39;49m\u001b[43mkwds\u001b[49m\u001b[43m)\u001b[49m\n",
      "File \u001b[0;32m~/Library/Python/3.9/lib/python/site-packages/pandas/core/nanops.py:147\u001b[0m, in \u001b[0;36mbottleneck_switch.__call__.<locals>.f\u001b[0;34m(values, axis, skipna, **kwds)\u001b[0m\n\u001b[1;32m    145\u001b[0m         result \u001b[38;5;241m=\u001b[39m alt(values, axis\u001b[38;5;241m=\u001b[39maxis, skipna\u001b[38;5;241m=\u001b[39mskipna, \u001b[38;5;241m*\u001b[39m\u001b[38;5;241m*\u001b[39mkwds)\n\u001b[1;32m    146\u001b[0m \u001b[38;5;28;01melse\u001b[39;00m:\n\u001b[0;32m--> 147\u001b[0m     result \u001b[38;5;241m=\u001b[39m \u001b[43malt\u001b[49m\u001b[43m(\u001b[49m\u001b[43mvalues\u001b[49m\u001b[43m,\u001b[49m\u001b[43m \u001b[49m\u001b[43maxis\u001b[49m\u001b[38;5;241;43m=\u001b[39;49m\u001b[43maxis\u001b[49m\u001b[43m,\u001b[49m\u001b[43m \u001b[49m\u001b[43mskipna\u001b[49m\u001b[38;5;241;43m=\u001b[39;49m\u001b[43mskipna\u001b[49m\u001b[43m,\u001b[49m\u001b[43m \u001b[49m\u001b[38;5;241;43m*\u001b[39;49m\u001b[38;5;241;43m*\u001b[39;49m\u001b[43mkwds\u001b[49m\u001b[43m)\u001b[49m\n\u001b[1;32m    149\u001b[0m \u001b[38;5;28;01mreturn\u001b[39;00m result\n",
      "File \u001b[0;32m~/Library/Python/3.9/lib/python/site-packages/pandas/core/nanops.py:404\u001b[0m, in \u001b[0;36m_datetimelike_compat.<locals>.new_func\u001b[0;34m(values, axis, skipna, mask, **kwargs)\u001b[0m\n\u001b[1;32m    401\u001b[0m \u001b[38;5;28;01mif\u001b[39;00m datetimelike \u001b[38;5;129;01mand\u001b[39;00m mask \u001b[38;5;129;01mis\u001b[39;00m \u001b[38;5;28;01mNone\u001b[39;00m:\n\u001b[1;32m    402\u001b[0m     mask \u001b[38;5;241m=\u001b[39m isna(values)\n\u001b[0;32m--> 404\u001b[0m result \u001b[38;5;241m=\u001b[39m \u001b[43mfunc\u001b[49m\u001b[43m(\u001b[49m\u001b[43mvalues\u001b[49m\u001b[43m,\u001b[49m\u001b[43m \u001b[49m\u001b[43maxis\u001b[49m\u001b[38;5;241;43m=\u001b[39;49m\u001b[43maxis\u001b[49m\u001b[43m,\u001b[49m\u001b[43m \u001b[49m\u001b[43mskipna\u001b[49m\u001b[38;5;241;43m=\u001b[39;49m\u001b[43mskipna\u001b[49m\u001b[43m,\u001b[49m\u001b[43m \u001b[49m\u001b[43mmask\u001b[49m\u001b[38;5;241;43m=\u001b[39;49m\u001b[43mmask\u001b[49m\u001b[43m,\u001b[49m\u001b[43m \u001b[49m\u001b[38;5;241;43m*\u001b[39;49m\u001b[38;5;241;43m*\u001b[39;49m\u001b[43mkwargs\u001b[49m\u001b[43m)\u001b[49m\n\u001b[1;32m    406\u001b[0m \u001b[38;5;28;01mif\u001b[39;00m datetimelike:\n\u001b[1;32m    407\u001b[0m     result \u001b[38;5;241m=\u001b[39m _wrap_results(result, orig_values\u001b[38;5;241m.\u001b[39mdtype, fill_value\u001b[38;5;241m=\u001b[39miNaT)\n",
      "File \u001b[0;32m~/Library/Python/3.9/lib/python/site-packages/pandas/core/nanops.py:720\u001b[0m, in \u001b[0;36mnanmean\u001b[0;34m(values, axis, skipna, mask)\u001b[0m\n\u001b[1;32m    718\u001b[0m count \u001b[38;5;241m=\u001b[39m _get_counts(values\u001b[38;5;241m.\u001b[39mshape, mask, axis, dtype\u001b[38;5;241m=\u001b[39mdtype_count)\n\u001b[1;32m    719\u001b[0m the_sum \u001b[38;5;241m=\u001b[39m values\u001b[38;5;241m.\u001b[39msum(axis, dtype\u001b[38;5;241m=\u001b[39mdtype_sum)\n\u001b[0;32m--> 720\u001b[0m the_sum \u001b[38;5;241m=\u001b[39m \u001b[43m_ensure_numeric\u001b[49m\u001b[43m(\u001b[49m\u001b[43mthe_sum\u001b[49m\u001b[43m)\u001b[49m\n\u001b[1;32m    722\u001b[0m \u001b[38;5;28;01mif\u001b[39;00m axis \u001b[38;5;129;01mis\u001b[39;00m \u001b[38;5;129;01mnot\u001b[39;00m \u001b[38;5;28;01mNone\u001b[39;00m \u001b[38;5;129;01mand\u001b[39;00m \u001b[38;5;28mgetattr\u001b[39m(the_sum, \u001b[38;5;124m\"\u001b[39m\u001b[38;5;124mndim\u001b[39m\u001b[38;5;124m\"\u001b[39m, \u001b[38;5;28;01mFalse\u001b[39;00m):\n\u001b[1;32m    723\u001b[0m     count \u001b[38;5;241m=\u001b[39m cast(np\u001b[38;5;241m.\u001b[39mndarray, count)\n",
      "File \u001b[0;32m~/Library/Python/3.9/lib/python/site-packages/pandas/core/nanops.py:1701\u001b[0m, in \u001b[0;36m_ensure_numeric\u001b[0;34m(x)\u001b[0m\n\u001b[1;32m   1698\u001b[0m \u001b[38;5;28;01melif\u001b[39;00m \u001b[38;5;129;01mnot\u001b[39;00m (is_float(x) \u001b[38;5;129;01mor\u001b[39;00m is_integer(x) \u001b[38;5;129;01mor\u001b[39;00m is_complex(x)):\n\u001b[1;32m   1699\u001b[0m     \u001b[38;5;28;01mif\u001b[39;00m \u001b[38;5;28misinstance\u001b[39m(x, \u001b[38;5;28mstr\u001b[39m):\n\u001b[1;32m   1700\u001b[0m         \u001b[38;5;66;03m# GH#44008, GH#36703 avoid casting e.g. strings to numeric\u001b[39;00m\n\u001b[0;32m-> 1701\u001b[0m         \u001b[38;5;28;01mraise\u001b[39;00m \u001b[38;5;167;01mTypeError\u001b[39;00m(\u001b[38;5;124mf\u001b[39m\u001b[38;5;124m\"\u001b[39m\u001b[38;5;124mCould not convert string \u001b[39m\u001b[38;5;124m'\u001b[39m\u001b[38;5;132;01m{\u001b[39;00mx\u001b[38;5;132;01m}\u001b[39;00m\u001b[38;5;124m'\u001b[39m\u001b[38;5;124m to numeric\u001b[39m\u001b[38;5;124m\"\u001b[39m)\n\u001b[1;32m   1702\u001b[0m     \u001b[38;5;28;01mtry\u001b[39;00m:\n\u001b[1;32m   1703\u001b[0m         x \u001b[38;5;241m=\u001b[39m \u001b[38;5;28mfloat\u001b[39m(x)\n",
      "\u001b[0;31mTypeError\u001b[0m: Could not convert string 'Y4:0X2:0O3:0N1:0P2:0' to numeric"
     ]
    }
   ],
   "source": [
    "sci_avg = df[\"Science Grade\"].mean()\n",
    "print(f\"Average Science Grade: {sci_avg}\")\n",
    "\n",
    "# error due to non-integer data type\n",
    "# proceed to clean data"
   ]
  },
  {
   "cell_type": "markdown",
   "id": "b517ec95-8ac0-4408-9cb7-9c69be5d502d",
   "metadata": {},
   "source": [
    "### Step 6: Clean data"
   ]
  },
  {
   "cell_type": "markdown",
   "id": "e3ffb145-4de3-44e2-97a2-3da729c856ed",
   "metadata": {},
   "source": [
    "The science grades were not displayed as integers, but instead in coded grades combining letters, numbers, and symbols. \n",
    "So, the codes were assigned values and a function was created to parse and interpret the coded grades.\n",
    "\n",
    "Each code followed the following 4-part format:\n",
    "LETTER NUMBER : 0\n",
    "\n",
    "I wanted to create a function that split the coded grade at the colon and only retained the letter and number to the left of the colon, since the zero value would not add to the numerical grade.\n",
    "\n",
    "For example:\n",
    "Alice's science grade is 'Y4:0'\n",
    "The function should convert 'Y4:0' to 'Y4'\n",
    "\n",
    "Next, with assistance from generative AI, I assigned the letters numerical values, as follows:\n",
    "        O (Outstanding) = 95-100\n",
    "        X (Excellent) = 90-94\n",
    "        Y (Good) = 85-89\n",
    "        P (Pass) = 80-84\n",
    "        N (Needs Improvement) = 75-79\n",
    "I chose these values to not go below 75, based on patterns from existing  Math and English data that show scores being between 76 and 95.\n",
    "\n",
    "With that, Alice's science grade looks like [85-89]4, well, actually [85]4.\n",
    "The 4 will be used to decide where her grade falls within the given range.\n",
    "So, the next step is for the function to add the adjacent value to the converted letter grade.\n",
    "85 + 4 = 89.\n",
    "\n",
    "Alice's science grade is 89.\n",
    "Based on her Math grade of 85 and English grade of 90, this science grade figure passes the common sense test.\n"
   ]
  },
  {
   "cell_type": "code",
   "execution_count": 11,
   "id": "3258a44e-9ee9-4328-91bd-929b8133d507",
   "metadata": {},
   "outputs": [],
   "source": [
    "def clean_science_grade(grade):\n",
    "    try:\n",
    "        extracted_grade = grade.split(':') \n",
    "        if len(extracted_grade) != 2:\n",
    "            return None\n",
    "            \n",
    "        # Get the letter and number (e.g., from 'Y4' get 'Y' and '4')\n",
    "        grade_code = extracted_grade[0]\n",
    "        if len(grade_code) < 2:\n",
    "            return None\n",
    "            \n",
    "        letter = grade_code[0]\n",
    "        # since the data came as a string, extracting the number still needs to be converted to an integer.\n",
    "        # for scalability, we are extracting whatever is after the letter and before the colon split.\n",
    "        # for example, if the coded grade was 'D10:0', this code would allow for the number to be 2 digits\n",
    "        number = int(grade_code[1:])\n",
    "        \n",
    "        # assumed letter to number dictionary\n",
    "        grade_scales = {\n",
    "            'O': 95,\n",
    "            'X': 90,\n",
    "            'Y': 85,\n",
    "            'P': 80,\n",
    "            'N': 75\n",
    "        }\n",
    "\n",
    "        # error handling for letters that do not fall within above scale\n",
    "        if letter not in grade_scales:\n",
    "            return None\n",
    "            \n",
    "        # Calculate final grade\n",
    "        # Base grade from letter + adjustment from number\n",
    "        # Number ranges from 1-5, where 1 is highest\n",
    "        base_grade = grade_scales[letter]\n",
    "        number_adjustment = number  # To be added to base_grade\n",
    "        \n",
    "        final_grade = base_grade + number_adjustment\n",
    "        \n",
    "        return final_grade\n",
    "        \n",
    "    except (ValueError, TypeError, AttributeError) as e:\n",
    "        print(f\"Error processing grade {grade}: {str(e)}\")\n",
    "        return None\n",
    "\n",
    "# Test the function\n",
    "# test_grades = ['O3:0', 'X2:0', 'Y4:0', 'P2:0', 'N1:0']\n",
    "# for grade in test_grades:\n",
    "#     print(f\"{grade} -> {clean_science_grade(grade)}\")\n",
    "\n"
   ]
  },
  {
   "cell_type": "code",
   "execution_count": 12,
   "id": "52009e89-430d-48b1-a48e-ac6d1d11ed48",
   "metadata": {},
   "outputs": [
    {
     "name": "stdout",
     "output_type": "stream",
     "text": [
      "Updated CSV file 'student_grades_updated.csv' has been created.\n"
     ]
    }
   ],
   "source": [
    "\n",
    "# Apply the cleaning function to the Science Grade column\n",
    "df['Science Grade'] = df['Science Grade'].apply(clean_science_grade)\n",
    "\n",
    "# Save the updated DataFrame back to a CSV file\n",
    "df.to_csv('student_grades_updated.csv', index=False)\n",
    "\n",
    "print(\"Updated CSV file 'student_grades_updated.csv' has been created.\")"
   ]
  },
  {
   "cell_type": "code",
   "execution_count": 13,
   "id": "a8729808-4a14-4ad6-a01a-d5e5333477d9",
   "metadata": {},
   "outputs": [
    {
     "name": "stdout",
     "output_type": "stream",
     "text": [
      "File read successfully!\n"
     ]
    }
   ],
   "source": [
    "try:\n",
    "    df_cleaned = pd.read_csv('student_grades_updated.csv')\n",
    "    print(\"File read successfully!\")\n",
    "except FileNotFoundError:\n",
    "    print(\"Error: The file was not found.\")\n",
    "except Exception as e:\n",
    "    print(f\"An unexpected error occurred: {e}\")"
   ]
  },
  {
   "cell_type": "markdown",
   "id": "152572f4-0133-40cf-85cd-43672d3b9165",
   "metadata": {},
   "source": [
    "### Step 7: Calculate averages for Math, Science, and English using .mean()"
   ]
  },
  {
   "cell_type": "code",
   "execution_count": 14,
   "id": "185e3c7b-8d3a-4145-8a8f-3ee46b1825a3",
   "metadata": {},
   "outputs": [
    {
     "name": "stdout",
     "output_type": "stream",
     "text": [
      "The average math grade: 84.0\n"
     ]
    }
   ],
   "source": [
    "avg_math_grade = df_cleaned[\"Math Grade\"].mean()\n",
    "print(f\"The average math grade: {avg_math_grade}\")"
   ]
  },
  {
   "cell_type": "code",
   "execution_count": 15,
   "id": "32c6232b-a13a-42ce-8cea-b0cd3a75283c",
   "metadata": {},
   "outputs": [
    {
     "name": "stdout",
     "output_type": "stream",
     "text": [
      "The average science grade: 87.4\n"
     ]
    }
   ],
   "source": [
    "avg_science_grade = df_cleaned[\"Science Grade\"].mean()\n",
    "print(f\"The average science grade: {avg_science_grade}\")"
   ]
  },
  {
   "cell_type": "code",
   "execution_count": 16,
   "id": "3e12fc3c-b6fe-465c-a3d3-62ec76a61cfc",
   "metadata": {},
   "outputs": [
    {
     "name": "stdout",
     "output_type": "stream",
     "text": [
      "The average english grade: 91.2\n"
     ]
    }
   ],
   "source": [
    "avg_english_grade = df_cleaned[\"English Grade\"].mean()\n",
    "print(f\"The average english grade: {avg_english_grade}\")"
   ]
  },
  {
   "cell_type": "code",
   "execution_count": 17,
   "id": "efabd97a-3a51-429c-b4f7-829c890a0d3c",
   "metadata": {},
   "outputs": [
    {
     "name": "stdout",
     "output_type": "stream",
     "text": [
      "Math Grade       84.0\n",
      "Science Grade    87.4\n",
      "English Grade    91.2\n",
      "dtype: float64\n"
     ]
    }
   ],
   "source": [
    "# to avoid issues with the 'Name' column, only select columns with integers for average calculation\n",
    "numeric_columns = df_cleaned.select_dtypes(include='number')\n",
    "subject_averages = numeric_columns.mean()\n",
    "\n",
    "print(subject_averages)"
   ]
  },
  {
   "cell_type": "code",
   "execution_count": 18,
   "id": "b4670bc0-ab24-4693-8e8f-eb09f4db38b5",
   "metadata": {},
   "outputs": [
    {
     "name": "stdout",
     "output_type": "stream",
     "text": [
      "Subject with the highest average: English Grade (91.2)\n"
     ]
    }
   ],
   "source": [
    "highest_average_subject = subject_averages.idxmax()\n",
    "highest_average_value = subject_averages.max()\n",
    "\n",
    "print(f\"Subject with the highest average: {highest_average_subject} ({highest_average_value})\")"
   ]
  },
  {
   "cell_type": "markdown",
   "id": "ab623b16-c731-4ad1-a380-1ac7ca75eaaa",
   "metadata": {},
   "source": [
    "### Step 6: Calculate averages by student across all subjects"
   ]
  },
  {
   "cell_type": "code",
   "execution_count": 19,
   "id": "9aeed416-2cd6-47a5-b62b-177eb5563095",
   "metadata": {
    "scrolled": true
   },
   "outputs": [
    {
     "name": "stdout",
     "output_type": "stream",
     "text": [
      "Updated CSV file with average_student_grade has been saved as 'student_grades_updated_averages.csv'.\n"
     ]
    }
   ],
   "source": [
    "# Calculate the average grade per student and add it as a new column\n",
    "df_cleaned['average_student_grade'] = df_cleaned[[\"Math Grade\", \"Science Grade\", \"English Grade\"]].mean(axis=1)\n",
    "\n",
    "# Save the updated DataFrame with the new column to the same CSV file or a new file\n",
    "df_cleaned.to_csv('student_grades_updated_averages.csv', index=False)\n",
    "\n",
    "print(f\"Updated CSV file with average_student_grade has been saved as 'student_grades_updated_averages.csv'.\")"
   ]
  },
  {
   "cell_type": "markdown",
   "id": "4681cccc-89c0-43fe-be68-9b22fac528cc",
   "metadata": {},
   "source": [
    "### Step 7: Identify the overall highest achieving student using .max() --> .idxmax()"
   ]
  },
  {
   "cell_type": "code",
   "execution_count": 20,
   "id": "e8ad010c-688a-4743-a71e-73160cd6bb5d",
   "metadata": {},
   "outputs": [
    {
     "name": "stdout",
     "output_type": "stream",
     "text": [
      "      Name  Math Grade  Science Grade  English Grade  average_student_grade\n",
      "0    Alice          85             89             90              88.000000\n",
      "1      Bob          78             92             95              88.333333\n",
      "2  Charlie          92             98             88              92.666667\n",
      "3    David          76             76             92              81.333333\n",
      "4      Eve          89             82             91              87.333333\n"
     ]
    }
   ],
   "source": [
    "df_cleaned_averages = pd.read_csv('student_grades_updated_averages.csv')\n",
    "print(df_cleaned_averages)"
   ]
  },
  {
   "cell_type": "code",
   "execution_count": 21,
   "id": "a71a965e-b083-413f-9043-cd0bd7404cc6",
   "metadata": {},
   "outputs": [
    {
     "name": "stdout",
     "output_type": "stream",
     "text": [
      "The highest achieving student is: Charlie!\n"
     ]
    }
   ],
   "source": [
    "#idxmax(): Returns the index (row position) of the maximum value in a column, which allows you to access the corresponding row data (e.g., the student's name).\n",
    "highest_achiever = df_cleaned_averages.loc[df_cleaned_averages['average_student_grade'].idxmax(), 'Name']\n",
    "print(f\"The highest achieving student is: {highest_achiever}!\")\n"
   ]
  }
 ],
 "metadata": {
  "kernelspec": {
   "display_name": "Python 3",
   "language": "python",
   "name": "python3"
  },
  "language_info": {
   "codemirror_mode": {
    "name": "ipython",
    "version": 3
   },
   "file_extension": ".py",
   "mimetype": "text/x-python",
   "name": "python",
   "nbconvert_exporter": "python",
   "pygments_lexer": "ipython3",
   "version": "3.9.6"
  }
 },
 "nbformat": 4,
 "nbformat_minor": 5
}
